{
 "cells": [
  {
   "cell_type": "code",
   "execution_count": 1,
   "id": "9daf5596",
   "metadata": {},
   "outputs": [
    {
     "name": "stdout",
     "output_type": "stream",
     "text": [
      "Libraries imported successfully.\n"
     ]
    }
   ],
   "source": [
    "import pandas as pd\n",
    "from imblearn.over_sampling import SMOTE\n",
    "import os\n",
    "\n",
    "print(\"Libraries imported successfully.\")"
   ]
  },
  {
   "cell_type": "code",
   "execution_count": 3,
   "id": "1bf1cf40",
   "metadata": {},
   "outputs": [
    {
     "name": "stdout",
     "output_type": "stream",
     "text": [
      "Original dataset shape: (33908, 17)\n",
      "\n",
      "--- Original Class Distribution ---\n",
      "labels\n",
      "0    29941\n",
      "1     3967\n",
      "Name: count, dtype: int64\n"
     ]
    }
   ],
   "source": [
    "# Load the dataset from your data folder\n",
    "df = pd.read_csv(\"E:/lightGBM model/data/Train.csv\")\n",
    "\n",
    "print(\"Original dataset shape:\", df.shape)\n",
    "print(\"\\n--- Original Class Distribution ---\")\n",
    "print(df['labels'].value_counts())"
   ]
  },
  {
   "cell_type": "code",
   "execution_count": 4,
   "id": "8474f303",
   "metadata": {},
   "outputs": [
    {
     "name": "stdout",
     "output_type": "stream",
     "text": [
      "\n",
      "--- Balanced Class Distribution ---\n",
      "labels\n",
      "1    29941\n",
      "0    29941\n",
      "Name: count, dtype: int64\n",
      "\n",
      "New balanced dataset shape: (59882, 17)\n"
     ]
    }
   ],
   "source": [
    "# Separate features (X) and the target label (y)\n",
    "X = df.drop('labels', axis=1)\n",
    "y = df['labels']\n",
    "\n",
    "# Initialize and apply SMOTE\n",
    "smote = SMOTE(random_state=42)\n",
    "X_resampled, y_resampled = smote.fit_resample(X, y)\n",
    "\n",
    "# Combine the balanced features and target back into a single DataFrame\n",
    "df_balanced = pd.concat([X_resampled, y_resampled], axis=1)\n",
    "\n",
    "print(\"\\n--- Balanced Class Distribution ---\")\n",
    "print(df_balanced['labels'].value_counts())\n",
    "print(\"\\nNew balanced dataset shape:\", df_balanced.shape)"
   ]
  },
  {
   "cell_type": "code",
   "execution_count": 6,
   "id": "fa48d495",
   "metadata": {},
   "outputs": [
    {
     "name": "stdout",
     "output_type": "stream",
     "text": [
      "\n",
      "✅ Balanced dataset saved successfully to: E:/lightGBM model/data/Train_balanced.csv\n"
     ]
    }
   ],
   "source": [
    "# Define the path for the new file\n",
    "output_path = \"E:/lightGBM model/data/Train_balanced.csv\"\n",
    "\n",
    "# Save the DataFrame to a CSV file\n",
    "df_balanced.to_csv(output_path, index=False)\n",
    "\n",
    "print(f\"\\n✅ Balanced dataset saved successfully to: {output_path}\")"
   ]
  }
 ],
 "metadata": {
  "kernelspec": {
   "display_name": "Python 3",
   "language": "python",
   "name": "python3"
  },
  "language_info": {
   "codemirror_mode": {
    "name": "ipython",
    "version": 3
   },
   "file_extension": ".py",
   "mimetype": "text/x-python",
   "name": "python",
   "nbconvert_exporter": "python",
   "pygments_lexer": "ipython3",
   "version": "3.13.5"
  }
 },
 "nbformat": 4,
 "nbformat_minor": 5
}
